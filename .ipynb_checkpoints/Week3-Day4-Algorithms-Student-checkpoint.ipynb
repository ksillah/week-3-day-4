{
 "cells": [
  {
   "cell_type": "markdown",
   "metadata": {},
   "source": [
    "# Algorithms, Binary Search & Linked Lists"
   ]
  },
  {
   "cell_type": "markdown",
   "metadata": {},
   "source": [
    "## Tasks Today:\n",
    " \n",
    "1) <b></b>Time/Space Complexity (from yesterday) <br>\n",
    " &nbsp;&nbsp;&nbsp;&nbsp; a) Lists/Arrays <br>\n",
    " &nbsp;&nbsp;&nbsp;&nbsp; a) Dictionaries (Modified Hashmaps) <br>\n",
    " &nbsp;&nbsp;&nbsp;&nbsp; b) Sets <br>\n",
    "2) <b>In-Place Algorithms</b> <br>\n",
    " &nbsp;&nbsp;&nbsp;&nbsp; a) Syntax <br>\n",
    " &nbsp;&nbsp;&nbsp;&nbsp; a) Out of Place Algorithm <br>\n",
    " &nbsp;&nbsp;&nbsp;&nbsp; b) In-Class Exercise #1 <br>\n",
    "3) <b>Two Pointers</b> <br>\n",
    "4) <b>Merge Sort</b> <br>\n",
    " &nbsp;&nbsp;&nbsp;&nbsp; a) Video on Algorithms <br>\n",
    " &nbsp;&nbsp;&nbsp;&nbsp; b) How it Works <br>\n",
    "5) <b>Exercises</b> <br>\n",
    " &nbsp;&nbsp;&nbsp;&nbsp; a) Exercise #1 - Reverse a List in Place Using an In-Place Algorithm <br>\n",
    " &nbsp;&nbsp;&nbsp;&nbsp; b) Exercise #2 - Find Distinct Words <br>\n",
    " &nbsp;&nbsp;&nbsp;&nbsp; c) Exercise #3 - Write a program to implement a Linear Search Algorithm. <br>"
   ]
  },
  {
   "cell_type": "markdown",
   "metadata": {},
   "source": [
    "### Time Space Complexity of Python Data Collections"
   ]
  },
  {
   "cell_type": "code",
   "execution_count": 5,
   "metadata": {},
   "outputs": [],
   "source": [
    "alist = ['Coding', 'is', 'fun', 'value']\n",
    "adict = {'key':25,\n",
    "        'key2': 45}\n",
    "aset = set(alist)"
   ]
  },
  {
   "cell_type": "code",
   "execution_count": 5,
   "metadata": {},
   "outputs": [],
   "source": [
    "# Python list (Modified Array)\n",
    "alist[0] # O(1) accessing\n",
    "alist.index('value') #O(n) searching\n",
    "alist.append('value') # O(1) adding onto the end\n",
    "alist.remove('value') # O(n) removing\n",
    "# appending to a specific index or inserting at some index is a bit more complicated O(n)\n",
    "alist.insert(3, 'value')\n",
    "\n",
    "#dictionaries (Modified Hash Maps)\n",
    "adict['key'] #O[1] Accessing a value\n",
    "adict['key'] = 'value' # 0(1) instering or updating k,v pair\n",
    "del adict(['key']) #O(1) removing, k,v pair\n",
    "if 'key' in adict #0(1) testing membership \n",
    "if 'key' in adict.key() #not advisable - returns a list we need to test membership in vs our original dictionary\n",
    "\n",
    "#O(n) if you are looking for a specific key or value, but O(1) if checking the whole dictionary\n",
    "#sets (Hash Tables)\n",
    "aset.add('val')#O{1} adding\n",
    "aset.remove('val') #0(1) removal\n",
    "if val in aset: # O(1) membership test"
   ]
  },
  {
   "cell_type": "markdown",
   "metadata": {},
   "source": [
    "## In-Place Algorithms"
   ]
  },
  {
   "cell_type": "markdown",
   "metadata": {},
   "source": [
    "#### Syntax"
   ]
  },
  {
   "cell_type": "code",
   "execution_count": 7,
   "metadata": {},
   "outputs": [
    {
     "data": {
      "text/plain": [
       "[10, 4, 20]"
      ]
     },
     "execution_count": 7,
     "metadata": {},
     "output_type": "execute_result"
    }
   ],
   "source": [
    "my_list = [20,4,10]\n",
    "#my_list[::-1]#out of place algorithm--creates a copy of a_list\n",
    "\n",
    "#var[i],var[i+1]=var[i+1],var[i]\n",
    "\n",
    "def swap(alist,x,y,z):\n",
    "    alist[x],alist[y], alist[z] = alist[z], alist[y],  alist[x]\n",
    "    return alist\n",
    "swap(my_list,0,1,2)"
   ]
  },
  {
   "cell_type": "markdown",
   "metadata": {},
   "source": [
    "#### Out of Place Algorithm"
   ]
  },
  {
   "cell_type": "code",
   "execution_count": null,
   "metadata": {},
   "outputs": [],
   "source": [
    "my_list = [20,4,10]\n",
    "reversed_list = my_list[::-1]\n",
    "print(reversed_list)\n"
   ]
  },
  {
   "cell_type": "markdown",
   "metadata": {},
   "source": [
    "#### In-Class Exercise #1 <br>\n",
    "<p>Write a function that takes in four arguments (list, index1, index2, index3), and swaps those three positions in the list passed in.</p>"
   ]
  },
  {
   "cell_type": "code",
   "execution_count": 9,
   "metadata": {},
   "outputs": [
    {
     "data": {
      "text/plain": [
       "[3, 4, 2, 8, 4, 10, 6]"
      ]
     },
     "execution_count": 9,
     "metadata": {},
     "output_type": "execute_result"
    }
   ],
   "source": [
    "l_1 = [10, 4, 3, 8, 4, 2, 6]\n",
    "\n",
    "def pos_swap(alist,x,y,z):\n",
    "    alist[x],alist[y], alist[z] = alist[z], alist[x],  alist[y]\n",
    "    return alist\n",
    "pos_swap(l_1, 2,0,5)"
   ]
  },
  {
   "cell_type": "markdown",
   "metadata": {},
   "source": [
    "## Two Pointers"
   ]
  },
  {
   "cell_type": "markdown",
   "metadata": {},
   "source": [
    "#### Syntax"
   ]
  },
  {
   "cell_type": "code",
   "execution_count": 13,
   "metadata": {},
   "outputs": [
    {
     "data": {
      "text/plain": [
       "[22, 11, 4, 9, 12, 3, 2, 1]"
      ]
     },
     "execution_count": 13,
     "metadata": {},
     "output_type": "execute_result"
    }
   ],
   "source": [
    "#alist[left], alist[right] = alist[right], alist[left]\n",
    "lp= [1,2,3,12,9,4,11,22]\n",
    "\n",
    "def twoPointers(alist):\n",
    "    #creating starting pointers here\n",
    "    left = 0\n",
    "    right = len(alist)-1\n",
    "    while left <= right:\n",
    "        alist[left], alist[right] = alist[right], alist[left]\n",
    "        left+=1\n",
    "        right -=1\n",
    "    return alist\n",
    "twoPointers(lp)\n",
    "        "
   ]
  },
  {
   "cell_type": "markdown",
   "metadata": {},
   "source": [
    "#### Video of Algorithms <br>\n",
    "<p>Watch the video about algorithms.</p>\n",
    "\n",
    "https://www.youtube.com/watch?v=Q9HjeFD62Uk\n",
    "\n",
    "https://www.youtube.com/watch?v=kPRA0W1kECg\n",
    "\n",
    "https://www.youtube.com/watch?v=ZZuD6iUe3Pc"
   ]
  },
  {
   "cell_type": "markdown",
   "metadata": {},
   "source": [
    "# Sorting Algorithms"
   ]
  },
  {
   "cell_type": "markdown",
   "metadata": {},
   "source": [
    "#### Bubble Sort\n",
    "\n",
    "Worst Case: O(n^2) Time - O(1) Space"
   ]
  },
  {
   "cell_type": "code",
   "execution_count": 22,
   "metadata": {},
   "outputs": [
    {
     "data": {
      "text/plain": [
       "[5, 6, 7, 20, 20, 20]"
      ]
     },
     "execution_count": 22,
     "metadata": {},
     "output_type": "execute_result"
    }
   ],
   "source": [
    "# Best Case: 0(n) - Linear\n",
    "def swap(i,j, array):\n",
    "    array[i],array[j] = array[j], array[i]\n",
    "    \n",
    "def bubble_sort(array):\n",
    "    is_sorted=False\n",
    "    while not is_sorted:\n",
    "        is_sorted = True\n",
    "        for num in range(len(array)-1):\n",
    "            if array[num]>array[num+1]:\n",
    "                swap(num,num+1,array)\n",
    "                is_sorted=False\n",
    "    return array\n",
    "bubble_sort([20,20,7,6,5,20])                       \n",
    "        \n",
    "                         \n",
    "    "
   ]
  },
  {
   "cell_type": "markdown",
   "metadata": {},
   "source": [
    "##### Insertion Sort\n",
    "\n",
    "Worst Case: O(n^2) time - O(1)space"
   ]
  },
  {
   "cell_type": "code",
   "execution_count": 26,
   "metadata": {},
   "outputs": [
    {
     "data": {
      "text/plain": [
       "[5, 10, 15, 15, 20, 30]"
      ]
     },
     "execution_count": 26,
     "metadata": {},
     "output_type": "execute_result"
    }
   ],
   "source": [
    "list_1 = [20,15,5,10,15,30]\n",
    "\n",
    "def swap(i,j, array):\n",
    "    array[i],array[j] = array[j], array[i]\n",
    "    \n",
    "def insertSort(array):\n",
    "    for i in range(1,len(array)):\n",
    "        j=i\n",
    "        while j>0 and array[j] <array[j-1]:\n",
    "            swap(j,j-1,array)\n",
    "            j-=1\n",
    "    return array\n",
    "insertSort(list_1)\n",
    "        "
   ]
  },
  {
   "cell_type": "markdown",
   "metadata": {},
   "source": [
    "##### Merge Sort"
   ]
  },
  {
   "cell_type": "markdown",
   "metadata": {},
   "source": [
    "#### How it Works"
   ]
  },
  {
   "cell_type": "code",
   "execution_count": 31,
   "metadata": {},
   "outputs": [
    {
     "name": "stdout",
     "output_type": "stream",
     "text": [
      "splitting... [4, 5, 17, 19, 6]\n",
      "splitting... [4, 5]\n",
      "splitting... [4]\n",
      "splitting... [5]\n",
      "Merging... [4, 5]\n",
      "splitting... [17, 19, 6]\n",
      "splitting... [17]\n",
      "splitting... [19, 6]\n",
      "splitting... [19]\n",
      "splitting... [6]\n",
      "Merging... [6, 19]\n",
      "Merging... [6, 19, 19]\n",
      "Merging... [4, 5, 6, 19, 19]\n"
     ]
    },
    {
     "data": {
      "text/plain": [
       "[4, 5, 6, 19, 19]"
      ]
     },
     "execution_count": 31,
     "metadata": {},
     "output_type": "execute_result"
    }
   ],
   "source": [
    "# Step1 split everything into its own group\n",
    "# step2 From left to right merge two groups together\n",
    "# step3 while merging, place each item in the correct position within merged group\n",
    "# Step4 continue step 2-3 until one group is left\n",
    "\n",
    "from random import randint\n",
    "#used to generate random list of 5 numbers 0-20\n",
    "\n",
    "nums=[randint(0,20) for i in range(5)]\n",
    "\n",
    "def mergeSort(alist):\n",
    "    print(\"splitting...\",alist)\n",
    "    #step 1 divide and conquer-divide the list intp equal halves until both halve have a len of 1\n",
    "    if len(alist) >1:\n",
    "        mid = len(alist)//2\n",
    "        lefthalf = alist[:mid]\n",
    "        righthalf = alist[mid:]\n",
    "        \n",
    "        mergeSort(lefthalf)\n",
    "        mergeSort(righthalf)\n",
    "        \n",
    "        #index pointers for our list\n",
    "        i = 0\n",
    "        j = 0\n",
    "        k = 0\n",
    "        #step 2 : compare the left half to the right half\n",
    "        while i<len(lefthalf) and j<len(righthalf):\n",
    "            if lefthalf[i] < righthalf[j]:\n",
    "                i+=1\n",
    "            else:\n",
    "                alist[k] = righthalf[j]\n",
    "                j+=1\n",
    "            k+=1\n",
    "            \n",
    "        while i <len(lefthalf):\n",
    "            alist[k] = lefthalf[i]\n",
    "            i = i+1\n",
    "            k = k+1\n",
    "        while j<len(righthalf):\n",
    "            alist[k] = righthalf[j]\n",
    "            j= j+1\n",
    "            k = k+1\n",
    "        print(\"Merging...\",alist)\n",
    "        return alist\n",
    "mergeSort(nums)"
   ]
  },
  {
   "cell_type": "markdown",
   "metadata": {},
   "source": [
    "# Binary Search\n",
    "\n",
    "The Binary Search algorithm works by finding the number in the middle of a given array and comparing it to the target. Given that the array is sorted\n",
    "\n",
    "* The worst case run time for this algorithm is `O(log(n))`"
   ]
  },
  {
   "cell_type": "code",
   "execution_count": 27,
   "metadata": {},
   "outputs": [
    {
     "data": {
      "text/plain": [
       "'The index is...2'"
      ]
     },
     "execution_count": 27,
     "metadata": {},
     "output_type": "execute_result"
    }
   ],
   "source": [
    "def binarySearchHelperFunc(array,target,left,right):\n",
    "    while left <= right:\n",
    "        middle = (left + right)// 2\n",
    "        potentialMatch = array[middle]\n",
    "        if target == potentialMatch:\n",
    "            return f\"The index is...{middle}\"\n",
    "        elif target < potentialMatch:\n",
    "            right = middle -1\n",
    "        else:\n",
    "            left = middle +1\n",
    "    return -1\n",
    "def binarySearch(array,target):\n",
    "    return binarySearchHelperFunc(array,target,0,len(array)-1)\n",
    "\n",
    "binarySearch([1,5,23,111],23)\n",
    "    "
   ]
  },
  {
   "cell_type": "markdown",
   "metadata": {},
   "source": [
    "# Exercises"
   ]
  },
  {
   "cell_type": "markdown",
   "metadata": {},
   "source": [
    "### Exercise #1 <br>\n",
    "<p>Reverse the list below in-place using an in-place algorithm.<br>For extra credit: Reverse the strings at the same time.</p>"
   ]
  },
  {
   "cell_type": "code",
   "execution_count": 23,
   "metadata": {},
   "outputs": [
    {
     "data": {
      "text/plain": [
       "['.', 'ecnetnes', 'a', 'si', 'siht']"
      ]
     },
     "execution_count": 23,
     "metadata": {},
     "output_type": "execute_result"
    }
   ],
   "source": [
    "words = ['this' , 'is', 'a', 'sentence', '.']\n",
    "\n",
    "def rev_word(words):\n",
    "    left=0\n",
    "    right=len(words)-1\n",
    "    while left<= right:\n",
    "        words[left],words[right] = (words[right])[::-1], (words[left])[::-1]\n",
    "        left+=1\n",
    "        right-=1\n",
    "    return words\n",
    "\n",
    "\n",
    "rev_word(words)\n",
    "        "
   ]
  },
  {
   "cell_type": "markdown",
   "metadata": {},
   "source": [
    "### Exercise #2 <br>\n",
    "<p>Create a function that counts how many distinct words are in the string below, then outputs a dictionary with the words as the key and the value as the amount of times that word appears in the string.<br>Should output:<br>{'a': 5,<br>\n",
    " 'abstract': 1,<br>\n",
    " 'an': 3,<br>\n",
    " 'array': 2, ... etc...</p>"
   ]
  },
  {
   "cell_type": "code",
   "execution_count": 47,
   "metadata": {},
   "outputs": [
    {
     "data": {
      "text/plain": [
       "{'in': 1,\n",
       " 'computing,': 1,\n",
       " 'a': 5,\n",
       " 'hash': 4,\n",
       " 'table': 2,\n",
       " 'map': 2,\n",
       " 'is': 1,\n",
       " 'data': 2,\n",
       " 'structure': 2,\n",
       " 'which': 2,\n",
       " 'implements': 1,\n",
       " 'an': 3,\n",
       " 'associative': 1,\n",
       " 'array': 2,\n",
       " 'abstract': 1,\n",
       " 'type,': 1,\n",
       " 'that': 1,\n",
       " 'can': 2,\n",
       " 'keys': 1,\n",
       " 'to': 2,\n",
       " 'values.': 1,\n",
       " 'uses': 1,\n",
       " 'function': 1,\n",
       " 'compute': 1,\n",
       " 'index': 1,\n",
       " 'into': 1,\n",
       " 'of': 1,\n",
       " 'buckets': 1,\n",
       " 'or': 1,\n",
       " 'slots': 1,\n",
       " 'from': 1,\n",
       " 'the': 1,\n",
       " 'desired': 1,\n",
       " 'value': 1,\n",
       " 'be': 1,\n",
       " 'found': 1}"
      ]
     },
     "execution_count": 47,
     "metadata": {},
     "output_type": "execute_result"
    }
   ],
   "source": [
    "a_text = 'In computing, a hash table hash map is a data structure which implements an associative array abstract data type, a structure that can map keys to values. A hash table uses a hash function to compute an index into an array of buckets or slots from which the desired value can be found'\n",
    "\n",
    "def word_count(sent):\n",
    "    words={}\n",
    "    for word in sent.split():\n",
    "        if word.lower() not in words:\n",
    "            words[word.lower()]=1\n",
    "        else:\n",
    "            words[word.lower()]+=1\n",
    "    return words\n",
    "word_count(a_text)"
   ]
  },
  {
   "cell_type": "markdown",
   "metadata": {},
   "source": [
    "## Exercise #3\n",
    "\n",
    "Write a program to implement a Linear Search Algorithm. Also in a comment, write the Time Complexity of the following algorithm.\n",
    "\n",
    "#### Hint: Linear Searching will require searching a list for a given number. "
   ]
  },
  {
   "cell_type": "code",
   "execution_count": 53,
   "metadata": {},
   "outputs": [
    {
     "data": {
      "text/plain": [
       "-1"
      ]
     },
     "execution_count": 53,
     "metadata": {},
     "output_type": "execute_result"
    }
   ],
   "source": [
    "#time complexity = O(n)\n",
    "nums_list = [10,23,45,70,11,15]\n",
    "#If target not inside list, return -1\n",
    "def linear_algo(items,target):\n",
    "    for i in range(0,len(items)-1):\n",
    "        if items[i]==target:\n",
    "            return i\n",
    "    return -1\n",
    "\n",
    "linear_algo(nums_list,50)\n",
    "\n"
   ]
  },
  {
   "cell_type": "code",
   "execution_count": null,
   "metadata": {},
   "outputs": [],
   "source": []
  }
 ],
 "metadata": {
  "kernelspec": {
   "display_name": "Python 3",
   "language": "python",
   "name": "python3"
  },
  "language_info": {
   "codemirror_mode": {
    "name": "ipython",
    "version": 3
   },
   "file_extension": ".py",
   "mimetype": "text/x-python",
   "name": "python",
   "nbconvert_exporter": "python",
   "pygments_lexer": "ipython3",
   "version": "3.8.5"
  }
 },
 "nbformat": 4,
 "nbformat_minor": 2
}
